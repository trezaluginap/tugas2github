{
 "cells": [
  {
   "cell_type": "code",
   "execution_count": 1,
   "id": "fd8d5ec6",
   "metadata": {},
   "outputs": [
    {
     "name": "stdout",
     "output_type": "stream",
     "text": [
      "TREZA LUGINA PAMUNGKAS\n",
      "081317186745\n",
      "20220040201\n"
     ]
    }
   ],
   "source": [
    "print(\"TREZA LUGINA PAMUNGKAS\")\n",
    "print(\"081317186745\")\n",
    "print(\"20220040201\")"
   ]
  },
  {
   "cell_type": "code",
   "execution_count": 1,
   "id": "6e4a1bb6",
   "metadata": {},
   "outputs": [
    {
     "name": "stdout",
     "output_type": "stream",
     "text": [
      "hasilnya adalah: 6800\n"
     ]
    }
   ],
   "source": [
    "angka1 = 5000\n",
    "angka2 = 2000\n",
    "angka3 = 200\n",
    "\n",
    "# Menambah hasil dengan cara angka pertama + angka kedua\n",
    "hasil = (angka1 + angka2) - angka3\n",
    "print(f\"hasilnya adalah: {hasil}\")"
   ]
  },
  {
   "cell_type": "code",
   "execution_count": null,
   "id": "7a41fa8b",
   "metadata": {},
   "outputs": [
    {
     "name": "stdout",
     "output_type": "stream",
     "text": [
      "MENGHITUNG KELILING LINGKARAN\n"
     ]
    }
   ],
   "source": [
    "# pemrograman menghitung keliling lingkaran dan volume kubus\n",
    "\n",
    "# keliling lingkaran\n",
    "print(\"MENGHITUNG KELILING LINGKARAN\")\n",
    "r = float(input(\"masukan nilai r: \"))\n",
    "phi = 3.14\n",
    "keliling_lingkaran = 2 * phi * r\n",
    "print(f\"keliling lingkaran {keliling_lingkaran:.2f}\\n\")\n",
    "\n",
    "# luas kubus\n",
    "print(\"-\"*30)\n",
    "print(\"MENGHITUNG LUAS KUBUS\")\n",
    "sisi = int(input(\"masukan nilai sisi: \"))\n",
    "luas_kubus = sisi**3\n",
    "print(f\"luas kubus {luas_kubus}\")"
   ]
  },
  {
   "cell_type": "code",
   "execution_count": 7,
   "id": "6da5571b",
   "metadata": {},
   "outputs": [
    {
     "name": "stdout",
     "output_type": "stream",
     "text": [
      "===============TYPE DATA===============\n",
      "type datanya adalah <class 'int'>\n",
      "type datanya adalah <class 'str'>\n",
      "type datanya adalah <class 'float'>\n",
      "type datanya adalah <class 'bool'>\n",
      "=====================================\n",
      "\n"
     ]
    }
   ],
   "source": [
    "print(\"===============TYPE DATA===============\")\n",
    "interger = 33400\n",
    "string = \"andika\"\n",
    "flo = 1.3\n",
    "bol = False\n",
    "\n",
    "print(\"type datanya adalah\",(type(interger)))\n",
    "print(\"type datanya adalah\",(type(string)))\n",
    "print(\"type datanya adalah\",(type(flo)))\n",
    "print(\"type datanya adalah\",(type(bol)))\n",
    "print(\"=====================================\\n\")"
   ]
  },
  {
   "cell_type": "code",
   "execution_count": null,
   "id": "dc925481",
   "metadata": {},
   "outputs": [],
   "source": [
    "print (\"======== KELILING LINGKARAN========\")\n",
    "r = int(input(\"input R nya : \"))\n",
    "k = 2 * 3.14 * r\n",
    "print (\"jadi keliling nya : \",k)\n",
    "print(\"====================================/n\")"
   ]
  },
  {
   "cell_type": "code",
   "execution_count": null,
   "id": "d8d294ae",
   "metadata": {},
   "outputs": [],
   "source": [
    "print(\"============VOLUME KUBUS============\")\n",
    "s = int(input(\"input s nya : \"))\n",
    "hitung = s * s * s\n",
    "print(\"jadi volume kubusnya : \",hitung)\n",
    "print(\"=====================================\\n\")"
   ]
  }
 ],
 "metadata": {
  "kernelspec": {
   "display_name": "Python 3 (ipykernel)",
   "language": "python",
   "name": "python3"
  },
  "language_info": {
   "codemirror_mode": {
    "name": "ipython",
    "version": 3
   },
   "file_extension": ".py",
   "mimetype": "text/x-python",
   "name": "python",
   "nbconvert_exporter": "python",
   "pygments_lexer": "ipython3",
   "version": "3.9.12"
  }
 },
 "nbformat": 4,
 "nbformat_minor": 5
}
