{
 "cells": [
  {
   "cell_type": "code",
   "execution_count": 1,
   "id": "e2e9a713",
   "metadata": {},
   "outputs": [
    {
     "name": "stdout",
     "output_type": "stream",
     "text": [
      "===============TYPE DATA===============\n",
      "type datanya  <class 'int'>\n",
      "type datanya  <class 'str'>\n",
      "type datanya  <class 'float'>\n",
      "type datanya  <class 'bool'>\n",
      "=====================================\n",
      "\n"
     ]
    }
   ],
   "source": [
    "print(\"===============TYPE DATA===============\")\n",
    "interger = 33100\n",
    "string = \"steven\"\n",
    "flo = 3.14\n",
    "bol = False\n",
    "\n",
    "print(\"type datanya \",(type(interger)))\n",
    "print(\"type datanya \",(type(string)))\n",
    "print(\"type datanya \",(type(flo)))\n",
    "print(\"type datanya \",(type(bol)))\n",
    "print(\"=====================================\\n\")"
   ]
  },
  {
   "cell_type": "code",
   "execution_count": 1,
   "id": "fd8d5ec6",
   "metadata": {},
   "outputs": [
    {
     "name": "stdout",
     "output_type": "stream",
     "text": [
      "TREZA LUGINA PAMUNGKAS\n",
      "081317186745\n",
      "20220040201\n"
     ]
    }
   ],
   "source": [
    "print(\"TREZA LUGINA PAMUNGKAS\")\n",
    "print(\"081317186745\")\n",
    "print(\"20220040201\")"
   ]
  },
  {
   "cell_type": "code",
   "execution_count": 1,
   "id": "6e4a1bb6",
   "metadata": {},
   "outputs": [
    {
     "name": "stdout",
     "output_type": "stream",
     "text": [
      "hasilnya adalah: 6800\n"
     ]
    }
   ],
   "source": [
    "angka1 = 5000\n",
    "angka2 = 2000\n",
    "angka3 = 200\n",
    "\n",
    "# Menambah hasil dengan cara angka pertama + angka kedua\n",
    "hasil = (angka1 + angka2) - angka3\n",
    "print(f\"hasilnya adalah: {hasil}\")"
   ]
  },
  {
   "cell_type": "code",
   "execution_count": null,
   "id": "7a41fa8b",
   "metadata": {},
   "outputs": [
    {
     "name": "stdout",
     "output_type": "stream",
     "text": [
      "MENGHITUNG KELILING LINGKARAN\n"
     ]
    }
   ],
   "source": [
    "# pemrograman menghitung keliling lingkaran dan volume kubus\n",
    "\n",
    "# keliling lingkaran\n",
    "print(\"MENGHITUNG KELILING LINGKARAN\")\n",
    "r = float(input(\"masukan nilai r: \"))\n",
    "phi = 3.14\n",
    "keliling_lingkaran = 2 * phi * r\n",
    "print(f\"keliling lingkaran {keliling_lingkaran:.2f}\\n\")\n",
    "\n",
    "# luas kubus\n",
    "print(\"-\"*30)\n",
    "print(\"MENGHITUNG LUAS KUBUS\")\n",
    "sisi = int(input(\"masukan nilai sisi: \"))\n",
    "luas_kubus = sisi**3\n",
    "print(f\"luas kubus {luas_kubus}\")"
   ]
  }
 ],
 "metadata": {
  "kernelspec": {
   "display_name": "Python 3 (ipykernel)",
   "language": "python",
   "name": "python3"
  },
  "language_info": {
   "codemirror_mode": {
    "name": "ipython",
    "version": 3
   },
   "file_extension": ".py",
   "mimetype": "text/x-python",
   "name": "python",
   "nbconvert_exporter": "python",
   "pygments_lexer": "ipython3",
   "version": "3.9.12"
  }
 },
 "nbformat": 4,
 "nbformat_minor": 5
}
